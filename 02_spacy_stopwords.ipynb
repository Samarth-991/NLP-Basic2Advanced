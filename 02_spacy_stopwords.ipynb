{
 "cells": [
  {
   "cell_type": "code",
   "execution_count": 1,
   "metadata": {},
   "outputs": [],
   "source": [
    "import os \n",
    "import numpy as np \n",
    "import spacy\n",
    "import pandas as pd \n"
   ]
  },
  {
   "cell_type": "code",
   "execution_count": 2,
   "metadata": {},
   "outputs": [],
   "source": [
    "nlp = spacy.load('en_core_web_sm')"
   ]
  },
  {
   "attachments": {},
   "cell_type": "markdown",
   "metadata": {},
   "source": [
    "## StopWords\n",
    "\n",
    "worlds like \"a\" and \"the\" appear so frequently that they don't require tagging as nouns or verbs. Spacy holds some 305 eng stop words"
   ]
  },
  {
   "attachments": {},
   "cell_type": "markdown",
   "metadata": {},
   "source": [
    "### Remove and Add Stop words"
   ]
  },
  {
   "cell_type": "code",
   "execution_count": 9,
   "metadata": {},
   "outputs": [
    {
     "name": "stdout",
     "output_type": "stream",
     "text": [
      "326\n",
      "{'thereafter', 'most', 'after', 'least', 'indeed', '’ve', 'myself', 'the', 'side', 'did', 'nobody', 'always', 'once', 'first', 'nor', 'everyone', '‘re', 'it', 'ten', 'rather', 'put', 'how', 'within', 'she', 'thereby', 'namely', 'because', 'you', 'nowhere', 'now', 'whereupon', 'otherwise', 'or', 'through', 'until', 'fifteen', 'a', \"'m\", 'often', 'ever', 'every', 'are', 'which', 'together', 'twenty', 'say', 'any', 'has', 'alone', 'three', 'yourselves', 'should', 'into', 'name', 'between', 'none', 'on', 'during', 'everything', 'while', 'still', 'move', 'his', 'well', 'whose', 'everywhere', 'by', 'hundred', 'can', 'himself', '’ll', 'show', 'nine', 'he', 'more', 'part', 'for', 'themselves', 'anywhere', 'however', 'fifty', 'onto', '‘m', 'before', 'n’t', 'those', 'seemed', 'thence', 'your', 'beforehand', 'beside', 'less', 'becoming', 'me', '’re', 'either', 'mine', 'nevertheless', 'own', 'somehow', 'when', 'our', 'latterly', 'that', 'except', 'does', 'must', 'unless', 'down', 'due', 'her', 'many', 'if', 'whether', 'used', 'five', 'herself', 'someone', \"'ll\", 'eleven', 'elsewhere', 'regarding', 'wherever', 'afterwards', 'via', 'forty', 'in', 'another', 'meanwhile', 'next', 'sixty', 'hereafter', 'such', 'not', 'about', 'back', 'off', 'front', 'last', 'but', 'whereafter', 'n‘t', 'whereas', 'seem', 'various', 'even', 'behind', 'whence', '’d', 'had', 'than', 'throughout', 'one', 'being', 'amongst', 'as', 'from', 'already', 'serious', 'we', 'across', 'anyway', 'neither', 'four', 'whereby', 'then', 'will', 'something', 'around', 'do', 'others', 'noone', 'some', 'anyone', 'to', 'were', 'eight', 'third', 'might', 'there', \"'ve\", 'may', 'therefore', 'is', 'too', 'thus', 'herein', 'and', 'whole', 'perhaps', 'with', 'whither', 'give', 'doing', 'never', 'quite', \"'d\", 'keep', 'also', 'ca', 'out', 'be', 'nothing', 'each', 'here', 'cannot', 'really', '’s', '‘ll', 'upon', 'so', 'several', 'both', 'same', 'seeming', 'all', 'of', 'would', 'them', 'yourself', 'at', 'whenever', 'yours', 'get', 'call', 'former', 'mostly', 'whoever', 'becomes', 'along', 'sometime', 'am', 'have', 'formerly', 'wherein', 'these', 'yet', 'whom', 'an', 'hers', 'moreover', 'without', \"'re\", 'further', 'just', 'seems', \"n't\", 'i', 'though', 'was', 'full', 'us', 'make', 'itself', 'sometimes', 'top', '’m', 'latter', 'over', 'anyhow', 'six', '‘s', 'my', 're', 'bottom', 'towards', 'only', 'this', 'again', 'could', 'ours', 'two', 'above', 'else', 'whatever', 'hence', 'see', 'somewhere', 'become', 'empty', 'please', 'done', \"'s\", 'besides', 'ourselves', 'anything', 'what', 'very', 'since', 'using', 'made', 'almost', 'hereupon', 'who', 'its', 'they', 'therein', 'enough', 'thru', 'amount', 'toward', 'under', 'go', 'their', 'been', 'twelve', 'per', 'among', '‘d', 'below', 'became', 'up', 'much', 'take', 'few', 'why', 'against', 'where', 'although', 'him', 'hereby', 'thereupon', '‘ve', 'no', 'other', 'beyond'}\n",
      "<class 'spacy.lexeme.Lexeme'>\n"
     ]
    }
   ],
   "source": [
    "print(\"Total number of Stop words\",len(nlp.Defaults.stop_words))\n",
    "print(nlp.Defaults.stop_words)\n",
    "\n",
    "print(type(nlp.vocab['is']))"
   ]
  },
  {
   "cell_type": "code",
   "execution_count": 11,
   "metadata": {},
   "outputs": [
    {
     "name": "stdout",
     "output_type": "stream",
     "text": [
      "Is Stop word: True\n",
      "Is Stop word: False\n",
      "Is Stop word: False\n"
     ]
    }
   ],
   "source": [
    "print(\"Is Stop word:\",nlp.vocab['is'].is_stop)\n",
    "print(\"Is Stop word:\",nlp.vocab['mystery'].is_stop)\n",
    "print(\"Is Stop word:\",nlp.vocab['avenue'].is_stop)"
   ]
  },
  {
   "cell_type": "code",
   "execution_count": 14,
   "metadata": {},
   "outputs": [
    {
     "name": "stdout",
     "output_type": "stream",
     "text": [
      "Total number of Stop words 327\n",
      "True\n"
     ]
    }
   ],
   "source": [
    "## Add Stop words \n",
    "nlp.Defaults.stop_words.add('btw')\n",
    "nlp.vocab['btw'].is_stop = True\n",
    "print(\"Total number of Stop words\",len(nlp.Defaults.stop_words))\n",
    "\n",
    "print(nlp.vocab['btw'].is_stop)"
   ]
  },
  {
   "cell_type": "code",
   "execution_count": 15,
   "metadata": {},
   "outputs": [
    {
     "name": "stdout",
     "output_type": "stream",
     "text": [
      "False\n"
     ]
    }
   ],
   "source": [
    "## remove a stop words \n",
    "nlp.Defaults.stop_words.remove('beyond')\n",
    "nlp.vocab['beyond'].is_stop = False\n",
    "print(nlp.vocab['beyond'].is_stop)"
   ]
  },
  {
   "cell_type": "code",
   "execution_count": null,
   "metadata": {},
   "outputs": [],
   "source": []
  }
 ],
 "metadata": {
  "kernelspec": {
   "display_name": "Python 3",
   "language": "python",
   "name": "python3"
  },
  "language_info": {
   "codemirror_mode": {
    "name": "ipython",
    "version": 3
   },
   "file_extension": ".py",
   "mimetype": "text/x-python",
   "name": "python",
   "nbconvert_exporter": "python",
   "pygments_lexer": "ipython3",
   "version": "3.9.16"
  },
  "orig_nbformat": 4,
  "vscode": {
   "interpreter": {
    "hash": "c97b3834dc838af420a112a14773e8afb8b594de545656412f1f301ebb56947f"
   }
  }
 },
 "nbformat": 4,
 "nbformat_minor": 2
}
