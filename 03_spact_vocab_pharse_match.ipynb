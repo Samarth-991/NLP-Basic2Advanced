{
 "cells": [
  {
   "cell_type": "code",
   "execution_count": 2,
   "metadata": {},
   "outputs": [],
   "source": [
    "import os \n",
    "import numpy as np \n",
    "import spacy\n",
    "import pandas as pd \n",
    "nlp = spacy.load('en_core_web_sm')"
   ]
  },
  {
   "attachments": {},
   "cell_type": "markdown",
   "metadata": {},
   "source": [
    "### Rule based Matching\n",
    "\n",
    "https://spacy.io/api/matcher"
   ]
  },
  {
   "cell_type": "code",
   "execution_count": 7,
   "metadata": {},
   "outputs": [],
   "source": [
    "from spacy.matcher import Matcher\n",
    "smatch = Matcher(nlp.vocab)"
   ]
  },
  {
   "cell_type": "code",
   "execution_count": 10,
   "metadata": {},
   "outputs": [],
   "source": [
    "patter1 = [{'LOWER':'solarpower'}] # solarpower\n",
    "patter2 = [{'LOWER':'solar'},{'IS_PUNCT':True},{'LOWER':'power'}] # solar-power/solar!power/solar_power\n",
    "patter3 = [{'LOWER':'solar'},{'LOWER':'power'}] # solar power\n"
   ]
  },
  {
   "cell_type": "code",
   "execution_count": 12,
   "metadata": {},
   "outputs": [],
   "source": [
    "smatch.add('SolarPower',[patter1,patter2,patter3])"
   ]
  },
  {
   "cell_type": "code",
   "execution_count": 13,
   "metadata": {},
   "outputs": [],
   "source": [
    "doc = nlp(\"Solar power industry continues to grow.Tata is focssing on building large solar-power plants in Rajasthan to power the entire district.Solar Power is cheap and renewable source of energy and creates zero emmision.As Solar-power continues to grow more and more people will opt for it.\")"
   ]
  },
  {
   "cell_type": "code",
   "execution_count": 14,
   "metadata": {},
   "outputs": [
    {
     "name": "stdout",
     "output_type": "stream",
     "text": [
      "[(8656102463236116519, 0, 2), (8656102463236116519, 13, 16), (8656102463236116519, 25, 27), (8656102463236116519, 40, 43)]\n"
     ]
    }
   ],
   "source": [
    "found_matches = smatch(doc)\n",
    "print(found_matches) # matchID , start and stop "
   ]
  },
  {
   "cell_type": "code",
   "execution_count": 16,
   "metadata": {},
   "outputs": [
    {
     "name": "stdout",
     "output_type": "stream",
     "text": [
      "8656102463236116519 SolarPower 0 2 Solar power\n",
      "8656102463236116519 SolarPower 13 16 solar-power\n",
      "8656102463236116519 SolarPower 25 27 Solar Power\n",
      "8656102463236116519 SolarPower 40 43 Solar-power\n"
     ]
    }
   ],
   "source": [
    "for match_id , start,end in found_matches:\n",
    "    string_id = nlp.vocab.strings[match_id]\n",
    "    span = doc[start:end]\n",
    "    print(\"{} {} {} {} {}\".format(match_id,string_id,start,end,span.text))"
   ]
  },
  {
   "cell_type": "code",
   "execution_count": null,
   "metadata": {},
   "outputs": [],
   "source": [
    "smatch.remove('SolarPower') # to remove the pattern"
   ]
  }
 ],
 "metadata": {
  "kernelspec": {
   "display_name": "pynlp",
   "language": "python",
   "name": "python3"
  },
  "language_info": {
   "codemirror_mode": {
    "name": "ipython",
    "version": 3
   },
   "file_extension": ".py",
   "mimetype": "text/x-python",
   "name": "python",
   "nbconvert_exporter": "python",
   "pygments_lexer": "ipython3",
   "version": "3.9.16"
  },
  "orig_nbformat": 4
 },
 "nbformat": 4,
 "nbformat_minor": 2
}
