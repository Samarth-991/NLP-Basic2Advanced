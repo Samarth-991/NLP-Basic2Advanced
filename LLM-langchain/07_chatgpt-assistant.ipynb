{
 "cells": [
  {
   "cell_type": "code",
   "execution_count": 1,
   "metadata": {},
   "outputs": [
    {
     "name": "stderr",
     "output_type": "stream",
     "text": [
      "/home/samartht/anaconda3/envs/pylangchain/lib/python3.10/site-packages/tqdm/auto.py:21: TqdmWarning: IProgress not found. Please update jupyter and ipywidgets. See https://ipywidgets.readthedocs.io/en/stable/user_install.html\n",
      "  from .autonotebook import tqdm as notebook_tqdm\n"
     ]
    }
   ],
   "source": [
    "import os \n",
    "import sys \n",
    "from tqdm import tqdm \n",
    "sys.path.append(\"../Chat-gpt-assistant/\")\n",
    "from ingestion import ingest_doc\n",
    "from backend.hugging_face_embeddings import LocalHuggingFaceEmbeddings as Embeddings\n",
    "from backend.core import run_llm"
   ]
  },
  {
   "attachments": {},
   "cell_type": "markdown",
   "metadata": {},
   "source": [
    "## Token Count \n",
    "##### <u>Chunking Strategies</u> \n",
    "\n",
    "we send almost 4-5 context as a rule of thumb. Since we are  assuming almost 2000 tokens just for context(~500 tokens per context).We should not reduce the size of Chunk to avoid information loss.So to retain meaning we must atleast have a considerable size of chunks.     \n",
    "Token received_by_LLM + Token_output_by_LLM = Total Tokens used by the LLM "
   ]
  },
  {
   "cell_type": "code",
   "execution_count": 3,
   "metadata": {},
   "outputs": [
    {
     "name": "stderr",
     "output_type": "stream",
     "text": [
      "100%|██████████| 4034/4034 [00:00<00:00, 619909.96it/s]\n",
      "WARNING:root:Saving the vector database locally\n"
     ]
    }
   ],
   "source": [
    "doucmentation_path = \"/mnt/e/Personal/Samarth/repository/NLP-Basic2Advanced/data/llm_data/langchain-docs\"\n",
    "out_path = '/mnt/e/Personal/Samarth/repository/NLP-Basic2Advanced/data/langchain-doc-index'\n",
    "\n",
    "embeddings = Embeddings('multi-qa-mpnet-base-dot-v1')\n",
    "\n",
    "if not os.path.isdir(out_path):\n",
    "    raw_documents = ingest_doc(path=doucmentation_path,embeddings=embeddings,out_path =out_path,chunk_size=2000,info_overlap=500)"
   ]
  },
  {
   "attachments": {},
   "cell_type": "markdown",
   "metadata": {},
   "source": [
    "## Retrival QA -\n",
    "Some context is not availbale with LLM So we feed the LLM with context as it cannot provide a specific answer.\n",
    "\n",
    "#### So that's what we're going to do in this chain?\n",
    "\n",
    "We ask this question \" What is a LangChain ?\" and we're going to provide the context.\n",
    "- So the retrieval question and answer chain is going to take our prompt and our query and it's going to embed it.\n",
    "- It's going to turn it into a vector, it's going then take this vector and put it in the vector store.\n",
    "- is going to take the embedding of our prompt and it's going to place it in the Vector store and then it's going to run a similarity search and give us a couple vectors closest to query vector \n",
    "- Vector Store is going to return us this context and lang chain converts the vectors to text that is readeable and plug it into our prompt as a context\n",
    "\n",
    "![Process](https://miro.medium.com/v2/resize:fit:1400/1*8p1-5omztNkKkI3MhinOBA.png)\n"
   ]
  },
  {
   "cell_type": "code",
   "execution_count": null,
   "metadata": {},
   "outputs": [],
   "source": [
    "result = run_llm(query=\"What is the RetrievalQA chain ?\",embedding=embeddings,faiss_vector_path=out_path)"
   ]
  },
  {
   "cell_type": "code",
   "execution_count": null,
   "metadata": {},
   "outputs": [],
   "source": [
    "print(\"Query: \",result['query'])\n",
    "print(\"Result: \",result['result'])"
   ]
  },
  {
   "cell_type": "code",
   "execution_count": null,
   "metadata": {},
   "outputs": [],
   "source": [
    "print(\"Refernces : \\n\")\n",
    "for i in range(len(result['source_documents'])):\n",
    "    \n",
    "    print(result['source_documents'][i].metadata['source'])"
   ]
  },
  {
   "cell_type": "code",
   "execution_count": null,
   "metadata": {},
   "outputs": [],
   "source": []
  }
 ],
 "metadata": {
  "kernelspec": {
   "display_name": "pylangchain",
   "language": "python",
   "name": "python3"
  },
  "language_info": {
   "codemirror_mode": {
    "name": "ipython",
    "version": 3
   },
   "file_extension": ".py",
   "mimetype": "text/x-python",
   "name": "python",
   "nbconvert_exporter": "python",
   "pygments_lexer": "ipython3",
   "version": "3.10.11"
  },
  "orig_nbformat": 4
 },
 "nbformat": 4,
 "nbformat_minor": 2
}
